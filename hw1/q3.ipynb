{
 "cells": [
  {
   "cell_type": "code",
   "execution_count": 1,
   "metadata": {},
   "outputs": [
    {
     "name": "stdout",
     "output_type": "stream",
     "text": [
      "--2024-10-11 13:33:26--  https://archive.ics.uci.edu/static/public/186/wine+quality.zip\n",
      "Resolving archive.ics.uci.edu (archive.ics.uci.edu)... 128.195.10.252\n",
      "Connecting to archive.ics.uci.edu (archive.ics.uci.edu)|128.195.10.252|:443... connected.\n",
      "HTTP request sent, awaiting response... 200 OK\n",
      "Length: unspecified\n",
      "Saving to: ‘wine+quality.zip’\n",
      "\n",
      "wine+quality.zip        [ <=>                ]  89.21K  --.-KB/s    in 0.06s   \n",
      "\n",
      "2024-10-11 13:33:26 (1.40 MB/s) - ‘wine+quality.zip’ saved [91353]\n",
      "\n",
      "Archive:  wine+quality.zip\n",
      "  inflating: wine_quality/winequality-red.csv  \n",
      "  inflating: wine_quality/winequality-white.csv  \n",
      "  inflating: wine_quality/winequality.names  \n",
      "--2024-10-11 13:33:28--  https://archive.ics.uci.edu/static/public/240/human+activity+recognition+using+smartphones.zip\n",
      "Resolving archive.ics.uci.edu (archive.ics.uci.edu)... 128.195.10.252\n",
      "Connecting to archive.ics.uci.edu (archive.ics.uci.edu)|128.195.10.252|:443... connected.\n",
      "HTTP request sent, awaiting response... 200 OK\n",
      "Length: unspecified\n",
      "Saving to: ‘human+activity+recognition+using+smartphones.zip’\n",
      "\n",
      "human+activity+reco     [       <=>          ]  58.18M  43.7MB/s    in 1.3s    \n",
      "\n",
      "2024-10-11 13:33:29 (43.7 MB/s) - ‘human+activity+recognition+using+smartphones.zip’ saved [61005872]\n",
      "\n",
      "Archive:  human+activity+recognition+using+smartphones.zip\n",
      " extracting: human_activity_recognition_using_smartphones/UCI HAR Dataset.names  \n",
      " extracting: human_activity_recognition_using_smartphones/UCI HAR Dataset.zip  \n"
     ]
    }
   ],
   "source": [
    "! wget https://archive.ics.uci.edu/static/public/186/wine+quality.zip\n",
    "! unzip wine+quality.zip -d wine_quality\n",
    "! wget https://archive.ics.uci.edu/static/public/240/human+activity+recognition+using+smartphones.zip\n",
    "! unzip human+activity+recognition+using+smartphones.zip -d human_activity_recognition_using_smartphones"
   ]
  },
  {
   "cell_type": "code",
   "execution_count": null,
   "metadata": {},
   "outputs": [],
   "source": []
  }
 ],
 "metadata": {
  "kernelspec": {
   "display_name": "zer",
   "language": "python",
   "name": "python3"
  },
  "language_info": {
   "codemirror_mode": {
    "name": "ipython",
    "version": 3
   },
   "file_extension": ".py",
   "mimetype": "text/x-python",
   "name": "python",
   "nbconvert_exporter": "python",
   "pygments_lexer": "ipython3",
   "version": "3.12.5"
  }
 },
 "nbformat": 4,
 "nbformat_minor": 2
}
